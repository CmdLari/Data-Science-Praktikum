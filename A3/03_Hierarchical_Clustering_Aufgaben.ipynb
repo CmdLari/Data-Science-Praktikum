{
 "cells": [
  {
   "cell_type": "markdown",
   "source": [
    "# 3. Praktikum Data Science - Clustering\n",
    "\n",
    "---\n",
    "\n",
    "### Aufgabe 2: Hierarchisches Clustering, PCA und interaktive Visualisierung\n",
    "\n",
    "**Ziel**: Verstehen und Anwenden von hierarchischem Clustering und Visualisierung in einem interaktiven Diagramm mit PCA und Plotly.\n",
    "\n",
    "**Aufgaben**:\n",
    "\n",
    "1. **Datenstandardisierung und hierarchisches Clustering**:\n",
    "   - Laden Sie den bereitgestellten Datensatz.\n",
    "   - Führen Sie ein hierarchisches Clustering durch.\n",
    "   - Erstellen Sie ein Dendrogramm zur Visualisierung des Clustering-Prozesses.\n",
    "\n",
    "2. **Bestimmung der Anzahl von Clustern**:\n",
    "   - Verwenden Sie das Dendrogramm, um einen \"Cut-Off-Abstand\" festzulegen und die Anzahl der Cluster zu bestimmen.\n",
    "   - Ordnen Sie jeden Datenpunkt einem Cluster zu, basierend auf der gewählten Cut-Off-Distanz.\n",
    "\n",
    "3. **PCA zur Visualisierung**:\n",
    "   - informieren sie sich zum Thema PCA\n",
    "   - Führen Sie eine PCA durch, um die Daten auf zwei Hauptkomponenten zu reduzieren.\n",
    "\n",
    "4. **Interaktive Plotly-Visualisierung**:\n",
    "   - Erstellen Sie ein interaktives Plotly-Streudiagramm mit den PCA-reduzierten Daten.\n",
    "   - Passen Sie die Hover-Informationen an, um Details über die Datenpunkte und ihre Clusterzuordnung anzuzeigen."
   ],
   "metadata": {
    "collapsed": false
   },
   "id": "fa571b0e3b017594"
  },
  {
   "cell_type": "markdown",
   "source": [
    "## 1.1 Bibliotheken und Daten laden"
   ],
   "metadata": {
    "collapsed": false
   },
   "id": "6d0d0fced4ff52d9"
  },
  {
   "cell_type": "code",
   "execution_count": null,
   "outputs": [],
   "source": [
    "import matplotlib.pyplot as plt\n",
    "import pandas as pd\n",
    "from scipy.cluster.hierarchy import dendrogram, linkage\n",
    "from sklearn.preprocessing import StandardScaler\n",
    "from scipy.cluster.hierarchy import fcluster\n",
    "from sklearn.decomposition import PCA\n",
    "import plotly.graph_objs as go\n"
   ],
   "metadata": {
    "collapsed": false,
    "is_executing": true
   },
   "id": "a9fc65cb2bfaae08"
  },
  {
   "cell_type": "code",
   "execution_count": 22,
   "outputs": [],
   "source": [
    "# Load the CSV file\n",
    "csv_file_path = 'data.csv'\n",
    "csv_data = pd.read_csv(csv_file_path)\n"
   ],
   "metadata": {
    "collapsed": false,
    "ExecuteTime": {
     "end_time": "2023-11-27T13:32:39.725147381Z",
     "start_time": "2023-11-27T13:32:39.679090381Z"
    }
   },
   "id": "7db12c0724e1795f"
  },
  {
   "cell_type": "markdown",
   "source": [
    "## 1.2 Features festlegen und Daten standardisieren\n",
    "- Wir wählen wieder unsere Features aus und verwenden den StandardScaler um sie zu standardisieren"
   ],
   "metadata": {
    "collapsed": false
   },
   "id": "5c54d2954bc3218a"
  },
  {
   "cell_type": "code",
   "execution_count": 23,
   "outputs": [],
   "source": [
    "\n",
    "# Merkmale für das Clustering auswählen\n",
    "selected_features = ['duration', 'views_growth', 'likes_cleaned', 'dislikes_cleaned', 'comments_cleaned']\n",
    "clustering_data = csv_data[selected_features]\n"
   ],
   "metadata": {
    "collapsed": false,
    "ExecuteTime": {
     "end_time": "2023-11-27T13:32:39.732255732Z",
     "start_time": "2023-11-27T13:32:39.729422470Z"
    }
   },
   "id": "1bc7f71df91a636f"
  },
  {
   "cell_type": "code",
   "execution_count": 24,
   "outputs": [],
   "source": [
    "# Standardisierung der Daten\n",
    "\n",
    "# CODE\n"
   ],
   "metadata": {
    "collapsed": false,
    "ExecuteTime": {
     "end_time": "2023-11-27T13:32:39.732426047Z",
     "start_time": "2023-11-27T13:32:39.729575776Z"
    }
   },
   "id": "3998cc07a308d3ad"
  },
  {
   "cell_type": "markdown",
   "source": [
    "## 1.3 Hierarchical Clustering durchführen \n",
    "- Führen Sie ein hierarchisches Clustering durch.\n",
    "- Erstellen Sie ein Dendrogramm wie unten aufgeführt"
   ],
   "metadata": {
    "collapsed": false
   },
   "id": "58cc293067f42af8"
  },
  {
   "cell_type": "code",
   "execution_count": null,
   "outputs": [],
   "source": [
    "# CODE\n",
    "\n",
    "print(\"Hello World\")"
   ],
   "metadata": {
    "collapsed": false,
    "is_executing": true
   },
   "id": "72bb1120161b4a9f"
  },
  {
   "cell_type": "markdown",
   "source": [
    "## Screenshot des erwarteten Ergebnisses:\n",
    "\n",
    "![Dendogramm](dendogramm_output.png)"
   ],
   "metadata": {
    "collapsed": false
   },
   "id": "d60a341d7d5c7065"
  },
  {
   "cell_type": "markdown",
   "source": [
    "## 2. Bestimmung der Anzahl von Clustern\n",
    "   - Wir verwenden das Dendrogramm, um einen \"Cut-Off\" festzulegen und die Anzahl der Cluster zu bestimmen.\n",
    "   - Wir legen den `distance_threshhold` auf 25 fest\n",
    "   - berechnen sie die Cluster mit `fcluster` "
   ],
   "metadata": {
    "collapsed": false
   },
   "id": "7bbf76b808f811ad"
  },
  {
   "cell_type": "code",
   "execution_count": 26,
   "outputs": [],
   "source": [
    "# CODE\n"
   ],
   "metadata": {
    "collapsed": false,
    "ExecuteTime": {
     "end_time": "2023-11-27T13:32:39.732511828Z",
     "start_time": "2023-11-27T13:32:39.729698370Z"
    }
   },
   "id": "162da819e226c25e"
  },
  {
   "cell_type": "markdown",
   "source": [
    "\n",
    "## 3. Dimensionalitätsreduktion mit PCA\n",
    "Da es schwierig ist, mehrdimensionale Daten direkt zu visualisieren, werden wir die Technik der Hauptkomponentenanalyse (PCA) nutzen, um unsere Daten auf zwei Hauptkomponenten zu reduzieren. Dies ermöglicht es uns, die Daten in einem zweidimensionalen Raum zu plotten und dabei die wesentlichen Informationen zu bewahren.\n",
    "- Führen Sie eine PCA durch, um die Daten auf zwei Hauptkomponenten zu reduzieren.\n",
    "- Fügen sie die Spalten dem DataFrame hinzu"
   ],
   "metadata": {
    "collapsed": false
   },
   "id": "30b981acdaa8c3fd"
  },
  {
   "cell_type": "code",
   "execution_count": 27,
   "outputs": [],
   "source": [
    "\n",
    "# CODE\n"
   ],
   "metadata": {
    "collapsed": false,
    "ExecuteTime": {
     "end_time": "2023-11-27T13:32:39.732557399Z",
     "start_time": "2023-11-27T13:32:39.729753111Z"
    }
   },
   "id": "4011b922c5a38dc5"
  },
  {
   "cell_type": "markdown",
   "source": [
    "\n",
    "\n",
    "## 4. Erstellung eines interaktiven Plots mit Plotly\n",
    "\n",
    "In diesem Abschnitt unseres Projekts werden wir einen interaktiven Plot erstellen, der es uns ermöglicht, die Daten auf eine neue und dynamische Weise zu explorieren:\n",
    "\n",
    "- **Implementierung in Python**:\n",
    "  Um unseren interaktiven Plot zu gestalten, verwenden wir die Bibliothek `plotly.graph_objs` von Plotly, die eine Vielzahl von Graphen und Visualisierungswerkzeugen bietet.\n",
    "\n",
    "- **Erstellen des Scatterplots**:\n",
    "  Mit der `Scatter`-Funktion aus `plotly.graph_objs` erstellen wir einen Streudiagramm (Scatterplot), in dem wir die ersten beiden Hauptkomponenten als Achsen verwenden.\n",
    "\n",
    "- **Daten für die Interaktivität**:\n",
    "  Um die Interaktivität zu verbessern, werden wir die Originaldaten als Hover-Text hinzufügen. Dies erlaubt es den Betrachtern, beim Mouse-over der Datenpunkte, detaillierte Informationen zu erhalten. Für eine saubere Organisation empfiehlt es sich, neue Spalten im DataFrame zu erstellen, die diesen Text enthalten.\n"
   ],
   "metadata": {
    "collapsed": false
   },
   "id": "3929d03f08e896ed"
  },
  {
   "cell_type": "code",
   "execution_count": 28,
   "outputs": [],
   "source": [
    "# CODE\n",
    "\n"
   ],
   "metadata": {
    "collapsed": false,
    "ExecuteTime": {
     "end_time": "2023-11-27T13:32:39.732590278Z",
     "start_time": "2023-11-27T13:32:39.729806290Z"
    }
   },
   "id": "adb12748d72ebc9a"
  },
  {
   "cell_type": "markdown",
   "source": [],
   "metadata": {
    "collapsed": false
   },
   "id": "37e96aab02712359"
  },
  {
   "cell_type": "markdown",
   "source": [
    "## Screenshot des interaktiven Plots:\n",
    "- so sollte der Mouseover ungefähr aussehen\n",
    "\n",
    "![Plotly Diagramm](plotly_mouseover.png)\n"
   ],
   "metadata": {
    "collapsed": false
   },
   "id": "be2c044bf480f89"
  },
  {
   "cell_type": "code",
   "execution_count": 28,
   "outputs": [],
   "source": [],
   "metadata": {
    "collapsed": false,
    "ExecuteTime": {
     "end_time": "2023-11-27T13:32:39.732620755Z",
     "start_time": "2023-11-27T13:32:39.729940832Z"
    }
   },
   "id": "b0f32a227e31fa18"
  }
 ],
 "metadata": {
  "kernelspec": {
   "display_name": "Python 3",
   "language": "python",
   "name": "python3"
  },
  "language_info": {
   "codemirror_mode": {
    "name": "ipython",
    "version": 2
   },
   "file_extension": ".py",
   "mimetype": "text/x-python",
   "name": "python",
   "nbconvert_exporter": "python",
   "pygments_lexer": "ipython2",
   "version": "2.7.6"
  }
 },
 "nbformat": 4,
 "nbformat_minor": 5
}
