{
 "cells": [
  {
   "cell_type": "markdown",
   "source": [
    "# 3. Praktikum in Data Science - Clustering\n",
    "\n",
    "---\n",
    "\n",
    "### Aufgabe 1: K-Means Clustering und Visualisierung\n",
    "\n",
    "**Ziel**: Verstehen und Anwenden von K-Means Clustering auf einen Datensatz und Visualisieren der Ergebnisse.\n",
    "\n",
    "**Aufgabenübersicht**:\n",
    "\n",
    "1. **Datenvorverarbeitung**:\n",
    "   - Laden Sie den bereitgestellten Datensatz.\n",
    "   - Auswahl der Features \n",
    "   - Standardisieren Sie die für das K-Means-Clustering geeigneten Merkmale.\n",
    "\n",
    "2. **K-Means-Clustering**:\n",
    "   - Wenden Sie den K-Means-Algorithmus auf den Datensatz an. Wählen Sie eine geeignete Anzahl von Clustern (k) und begründen Sie Ihre Wahl.\n",
    "   - Weisen Sie jedem Datenpunkt Cluster-Labels zu.\n",
    "\n",
    "3. **Pairplot-Analyse**:\n",
    "   - Erstellen Sie ein 'pairplot' mit Seaborn, um die Verteilung der Merkmale des Datensatzes innerhalb der Cluster zu visualisieren.\n",
    "   - Identifizieren Sie alle offensichtlichen Beziehungen oder Korrelationen zwischen den Merkmalen innerhalb und zwischen den Clustern.\n",
    "\n",
    "4. **Analyse und Reflexion**:\n",
    "   - Verfassen Sie eine kurze Analyse der Clustering-Ergebnisse. Diskutieren Sie alle in den Clustern beobachteten Muster oder Erkenntnisse.\n",
    "   - Denken Sie über die Effektivität des K-Means-Algorithmus bei der Analyse dieses Datensatzes nach."
   ],
   "metadata": {
    "collapsed": false
   },
   "id": "1dc24920354b4de5"
  },
  {
   "cell_type": "markdown",
   "source": [
    "## 1.1 Datensatz laden\n",
    "- Bibliotheken importieren\n",
    "- Datensatz laden\n"
   ],
   "metadata": {
    "collapsed": false
   },
   "id": "b59497194fb3406"
  },
  {
   "cell_type": "code",
   "execution_count": 16,
   "outputs": [],
   "source": [
    "from sklearn.preprocessing import StandardScaler\n",
    "from sklearn.cluster import KMeans\n",
    "import matplotlib.pyplot as plt\n",
    "import seaborn as sns\n",
    "import pandas as pd"
   ],
   "metadata": {
    "collapsed": false,
    "ExecuteTime": {
     "end_time": "2023-11-27T13:32:27.289494050Z",
     "start_time": "2023-11-27T13:32:27.242628993Z"
    }
   },
   "id": "75a742cb760eff68"
  },
  {
   "cell_type": "code",
   "execution_count": 17,
   "outputs": [],
   "source": [
    "\n",
    "# Load the CSV file\n",
    "csv_file_path = 'data.csv'\n",
    "csv_data = pd.read_csv(csv_file_path)\n",
    "\n",
    "# Display the first few rows of the dataframe to understand its structure\n",
    "#csv_data.head()\n"
   ],
   "metadata": {
    "collapsed": false,
    "ExecuteTime": {
     "end_time": "2023-11-27T13:32:27.308560758Z",
     "start_time": "2023-11-27T13:32:27.248645962Z"
    }
   },
   "id": "f61c45d8856793fb"
  },
  {
   "cell_type": "markdown",
   "source": [
    "## 1.2 Auswahl der Features:\n",
    "- Für unsere Analyse verwenden wir die folgenden Merkmale: 'duration', 'views_growth', 'likes_cleaned', 'dislikes_cleaned', 'comments_cleaned'. Diese repräsentieren verschiedene Aspekte der Video-Engagement-Daten."
   ],
   "metadata": {
    "collapsed": false
   },
   "id": "bdb6cc6e8b77ecf9"
  },
  {
   "cell_type": "code",
   "execution_count": 18,
   "outputs": [],
   "source": [
    "# Selecting a mix of potentially relevant features for clustering\n",
    "selected_features = ['duration', 'views_growth', 'likes_cleaned', 'dislikes_cleaned', 'comments_cleaned']\n",
    "\n",
    "# Extracting the selected features\n",
    "clustering_data = csv_data[selected_features]\n"
   ],
   "metadata": {
    "collapsed": false,
    "ExecuteTime": {
     "end_time": "2023-11-27T13:32:27.310049427Z",
     "start_time": "2023-11-27T13:32:27.309384421Z"
    }
   },
   "id": "6d8f6ef4b308fb39"
  },
  {
   "cell_type": "markdown",
   "source": [
    "## 1.3. Datenstandardisierung\n",
    "- Da K-Means von der Skalierung der Daten beeinflusst wird, müssen Sie die Daten standardisieren, um sicherzustellen, dass jedes Merkmal gleich gewichtet wird. Verwenden Sie `StandardScaler` aus der `sklearn.preprocessing` Bibliothek, um die ausgewählten Merkmale zu standardisieren."
   ],
   "metadata": {
    "collapsed": false
   },
   "id": "6ac2bc2fe5e5c202"
  },
  {
   "cell_type": "code",
   "execution_count": 19,
   "outputs": [],
   "source": [
    "# CODE "
   ],
   "metadata": {
    "collapsed": false,
    "ExecuteTime": {
     "end_time": "2023-11-27T13:32:27.310189232Z",
     "start_time": "2023-11-27T13:32:27.309469925Z"
    }
   },
   "id": "a9cac5550e346daf"
  },
  {
   "cell_type": "markdown",
   "source": [
    "## 2.1 Anwendung der Ellbogen-Methode\n",
    "- Die \"Inertia\" stellt die Summe der Quadrate innerhalb der Cluster dar, die tendenziell abnimmt, wenn wir die Anzahl der Cluster erhöhen. Eine gängige Methode zur Bestimmung der optimalen Anzahl von Clustern ist die Ellbogen-Methode, bei der nach einem Punkt im Plot gesucht wird, an dem sich die Abnahmerate stark verändert und einem \"Ellbogen\" ähnelt.\n",
    "\n",
    "- führen Sie die K-Means-Clustering-Methode auf den standardisierten Daten durch. \n",
    "- testen sie dafür verschiedene Werte für k und berechnen sie die `inertia`\n",
    "- plotten sie die berechneten Werte"
   ],
   "metadata": {
    "collapsed": false
   },
   "id": "d6f0da499555a655"
  },
  {
   "cell_type": "code",
   "execution_count": 20,
   "outputs": [],
   "source": [
    "# CODE"
   ],
   "metadata": {
    "collapsed": false,
    "ExecuteTime": {
     "end_time": "2023-11-27T13:32:27.310234375Z",
     "start_time": "2023-11-27T13:32:27.309514520Z"
    }
   },
   "id": "6cccde1a3a1bc69c"
  },
  {
   "cell_type": "markdown",
   "source": [
    "## Screenshot des erwarteten Ergebnisses:\n",
    "\n",
    "![Elbowplot](elbowplot_output.png)"
   ],
   "metadata": {
    "collapsed": false
   },
   "id": "dc1b4b7449432878"
  },
  {
   "cell_type": "markdown",
   "source": [
    "## 2.2 Anzahl der Cluster bestimmen\n",
    "Wählen Sie eine geeignete Anzahl von Clustern (k) anhand des Elbow-Diagrams und begründen Sie Ihre Wahl.\n",
    "Hinweis: es gibt hier keine 100% richtige Antwort.\n",
    "\n",
    "- Fahren sie mit K-Means-Clustering unter Verwendung der gewählten Anzahl von Clustern fort"
   ],
   "metadata": {
    "collapsed": false
   },
   "id": "4dbcb17666b8210b"
  },
  {
   "cell_type": "code",
   "execution_count": 21,
   "outputs": [],
   "source": [
    "# CODE "
   ],
   "metadata": {
    "collapsed": false,
    "ExecuteTime": {
     "end_time": "2023-11-27T13:32:27.310300173Z",
     "start_time": "2023-11-27T13:32:27.309539643Z"
    }
   },
   "id": "73d85cd63601271d"
  },
  {
   "cell_type": "markdown",
   "source": [
    "## 3. **Pairplot-Analyse**:\n",
    "   - Erstellen Sie ein 'pairplot' mit `Seaborn`, um die Verteilung der Merkmale des Datensatzes innerhalb der Cluster zu visualisieren.\n",
    "   - Identifizieren Sie alle offensichtlichen Beziehungen oder Korrelationen zwischen den Merkmalen innerhalb und zwischen den Clustern und beschreiben sie diese kurz."
   ],
   "metadata": {
    "collapsed": false
   },
   "id": "c6ae94cb4efdbd7c"
  },
  {
   "cell_type": "code",
   "execution_count": 22,
   "outputs": [],
   "source": [
    "# CODE \n"
   ],
   "metadata": {
    "collapsed": false,
    "ExecuteTime": {
     "end_time": "2023-11-27T13:32:27.310338148Z",
     "start_time": "2023-11-27T13:32:27.309563499Z"
    }
   },
   "id": "55d04b9b6e8a5d6"
  },
  {
   "cell_type": "markdown",
   "source": [
    "## Screenshot des erwarteten Pairplots:\n",
    "\n",
    "![Pairplot](pairplot_output.png)"
   ],
   "metadata": {
    "collapsed": false
   },
   "id": "af7cb0822f89abe0"
  },
  {
   "cell_type": "markdown",
   "source": [],
   "metadata": {
    "collapsed": false
   },
   "id": "e68004d6449bae3d"
  }
 ],
 "metadata": {
  "kernelspec": {
   "display_name": "Python 3",
   "language": "python",
   "name": "python3"
  },
  "language_info": {
   "codemirror_mode": {
    "name": "ipython",
    "version": 2
   },
   "file_extension": ".py",
   "mimetype": "text/x-python",
   "name": "python",
   "nbconvert_exporter": "python",
   "pygments_lexer": "ipython2",
   "version": "2.7.6"
  }
 },
 "nbformat": 4,
 "nbformat_minor": 5
}
