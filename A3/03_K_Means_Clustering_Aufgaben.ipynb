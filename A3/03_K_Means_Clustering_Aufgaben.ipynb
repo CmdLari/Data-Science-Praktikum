{
 "cells": [
  {
   "cell_type": "markdown",
   "id": "1dc24920354b4de5",
   "metadata": {
    "collapsed": false
   },
   "source": [
    "# 3. Praktikum in Data Science - Clustering\n",
    "\n",
    "---\n",
    "\n",
    "### Aufgabe 1: K-Means Clustering und Visualisierung\n",
    "\n",
    "**Ziel**: Verstehen und Anwenden von K-Means Clustering auf einen Datensatz und Visualisieren der Ergebnisse.\n",
    "\n",
    "**Aufgabenübersicht**:\n",
    "\n",
    "1. **Datenvorverarbeitung**:\n",
    "   - Laden Sie den bereitgestellten Datensatz.\n",
    "   - Auswahl der Features \n",
    "   - Standardisieren Sie die für das K-Means-Clustering geeigneten Merkmale.\n",
    "\n",
    "2. **K-Means-Clustering**:\n",
    "   - Wenden Sie den K-Means-Algorithmus auf den Datensatz an. Wählen Sie eine geeignete Anzahl von Clustern (k) und begründen Sie Ihre Wahl.\n",
    "   - Weisen Sie jedem Datenpunkt Cluster-Labels zu.\n",
    "\n",
    "3. **Pairplot-Analyse**:\n",
    "   - Erstellen Sie ein 'pairplot' mit Seaborn, um die Verteilung der Merkmale des Datensatzes innerhalb der Cluster zu visualisieren.\n",
    "   - Identifizieren Sie alle offensichtlichen Beziehungen oder Korrelationen zwischen den Merkmalen innerhalb und zwischen den Clustern.\n",
    "\n",
    "4. **Analyse und Reflexion**:\n",
    "   - Verfassen Sie eine kurze Analyse der Clustering-Ergebnisse. Diskutieren Sie alle in den Clustern beobachteten Muster oder Erkenntnisse.\n",
    "   - Denken Sie über die Effektivität des K-Means-Algorithmus bei der Analyse dieses Datensatzes nach."
   ]
  },
  {
   "cell_type": "markdown",
   "id": "b59497194fb3406",
   "metadata": {
    "collapsed": false
   },
   "source": [
    "## 1.1 Datensatz laden\n",
    "- Bibliotheken importieren\n",
    "- Datensatz laden\n"
   ]
  },
  {
   "cell_type": "code",
   "execution_count": null,
   "id": "5b6cafb6",
   "metadata": {},
   "outputs": [],
   "source": [
    "import matplotlib.pyplot as plt\n",
    "from sklearn.cluster import KMeans\n",
    "import seaborn as sns\n",
    "import pandas as pd"
   ]
  },
  {
   "cell_type": "code",
   "execution_count": null,
   "id": "11d39f11",
   "metadata": {},
   "outputs": [],
   "source": [
    "# Load the CSV file\n",
    "csv_file_path = 'data.csv'\n",
    "csv_data = pd.read_csv(csv_file_path)\n",
    "\n",
    "print(csv_data.columns)"
   ]
  },
  {
   "cell_type": "code",
   "execution_count": null,
   "id": "6d8f6ef4b308fb39",
   "metadata": {
    "ExecuteTime": {
     "end_time": "2023-11-27T13:32:27.310049427Z",
     "start_time": "2023-11-27T13:32:27.309384421Z"
    },
    "collapsed": false
   },
   "outputs": [],
   "source": [
    "# Selecting a mix of potentially relevant features for clustering\n",
    "selected_features = ['duration', 'views_growth', 'likes_cleaned', 'dislikes_cleaned', 'comments_cleaned']\n",
    "\n",
    "# Extracting the selected features\n",
    "clustering_data = csv_data[selected_features]\n"
   ]
  },
  {
   "cell_type": "code",
   "execution_count": null,
   "id": "c1cb08c9",
   "metadata": {},
   "outputs": [],
   "source": [
    "# Standardisierung der Daten\n",
    "standardized_data=StandardScaler().fit(clustering_data).transform(clustering_data) "
   ]
  },
  {
   "cell_type": "markdown",
   "id": "d6f0da499555a655",
   "metadata": {
    "collapsed": false
   },
   "source": [
    "## 2.1 Anwendung der Ellbogen-Methode\n",
    "- Die \"Inertia\" stellt die Summe der Quadrate innerhalb der Cluster dar, die tendenziell abnimmt, wenn wir die Anzahl der Cluster erhöhen. Eine gängige Methode zur Bestimmung der optimalen Anzahl von Clustern ist die Ellbogen-Methode, bei der nach einem Punkt im Plot gesucht wird, an dem sich die Abnahmerate stark verändert und einem \"Ellbogen\" ähnelt.\n",
    "\n",
    "- führen Sie die K-Means-Clustering-Methode auf den standardisierten Daten durch. \n",
    "- testen sie dafür verschiedene Werte für k und berechnen sie die `inertia`\n",
    "- plotten sie die berechneten Werte"
   ]
  },
  {
   "cell_type": "code",
   "execution_count": null,
   "id": "6cccde1a3a1bc69c",
   "metadata": {
    "ExecuteTime": {
     "end_time": "2023-11-27T13:32:27.310234375Z",
     "start_time": "2023-11-27T13:32:27.309514520Z"
    },
    "collapsed": false
   },
   "outputs": [],
   "source": [
    "inertia_values = []\n",
    "\n",
    "# Testen verschiedener Werte für k (Anzahl der Cluster)\n",
    "for k in range(1, 11):\n",
    "    kmeans = KMeans(n_clusters=k, random_state=42, n_init=10)\n",
    "    kmeans.fit(standardized_data)\n",
    "    inertia_values.append(kmeans.inertia_)\n",
    "\n",
    "\n",
    "sns.set(style = \"darkgrid\")\n",
    "\n",
    "# Plot der Inertia-Werte\n",
    "plt.figure(figsize=(8, 6))\n",
    "plt.plot(range(1, 11), inertia_values, marker='o')\n",
    "plt.title('Ellbogen-Plot')\n",
    "plt.xlabel('Anzahl der Cluster')\n",
    "plt.ylabel('Inertia')\n",
    "#plt.grid(True)\n",
    "plt.show()"
   ]
  },
  {
   "cell_type": "markdown",
   "id": "dc1b4b7449432878",
   "metadata": {
    "collapsed": false
   },
   "source": [
    "## Screenshot des erwarteten Ergebnisses:\n",
    "\n",
    "![Elbowplot](elbowplot_output.png)"
   ]
  },
  {
   "cell_type": "markdown",
   "id": "4dbcb17666b8210b",
   "metadata": {
    "collapsed": false
   },
   "source": [
    "## 2.2 Anzahl der Cluster bestimmen\n",
    "Wählen Sie eine geeignete Anzahl von Clustern (k) anhand des Elbow-Diagrams und begründen Sie Ihre Wahl.\n",
    "Hinweis: es gibt hier keine 100% richtige Antwort.\n",
    "\n",
    "- Fahren sie mit K-Means-Clustering unter Verwendung der gewählten Anzahl von Clustern fort"
   ]
  },
  {
   "cell_type": "markdown",
   "id": "ed870def",
   "metadata": {},
   "source": [
    "**Wir haben uns für eine Anzahl von 8 Clustern entschieden, da ab dem 8. Cluster die Inertia sich nicht mehr so drastisch ändert, wie zuvor.**\n",
    "<br>(Betrachtet wurde bis zu einer Cluster-Anzahl von 20)"
   ]
  },
  {
   "cell_type": "code",
   "execution_count": null,
   "id": "73d85cd63601271d",
   "metadata": {
    "ExecuteTime": {
     "end_time": "2023-11-27T13:32:27.310300173Z",
     "start_time": "2023-11-27T13:32:27.309539643Z"
    },
    "collapsed": false
   },
   "outputs": [],
   "source": [
    "num_clusters = 8\n",
    "\n",
    "# K-Means-Modell erstellen\n",
    "kmeans = KMeans(n_clusters=num_clusters, random_state=42, n_init=10)\n",
    "kmeans.fit(standardized_data)\n",
    "\n",
    "# Den Cluster zuordnen für jeden Datenpunkt\n",
    "csv_data['cluster'] = kmeans.labels_\n",
    "\n",
    "# Ausgabe der Cluster-Zuordnung\n",
    "print(csv_data[['duration', 'views_growth', 'likes_cleaned', 'dislikes_cleaned', 'comments_cleaned', 'cluster']])"
   ]
  },
  {
   "cell_type": "markdown",
   "id": "c6ae94cb4efdbd7c",
   "metadata": {
    "collapsed": false
   },
   "source": [
    "## 3. **Pairplot-Analyse**:\n",
    "   - Erstellen Sie ein 'pairplot' mit `Seaborn`, um die Verteilung der Merkmale des Datensatzes innerhalb der Cluster zu visualisieren.\n",
    "   - Identifizieren Sie alle offensichtlichen Beziehungen oder Korrelationen zwischen den Merkmalen innerhalb und zwischen den Clustern und beschreiben sie diese kurz."
   ]
  },
  {
   "cell_type": "code",
   "execution_count": null,
   "id": "55d04b9b6e8a5d6",
   "metadata": {
    "ExecuteTime": {
     "end_time": "2023-11-27T13:32:27.310338148Z",
     "start_time": "2023-11-27T13:32:27.309563499Z"
    },
    "collapsed": false
   },
   "outputs": [],
   "source": [
    "sns.set(style = \"darkgrid\")\n",
    "\n",
    "#sns.pairplot(pd.concat([pd.DataFrame(standardized_data, columns=selected_features), csv_data['cluster']], axis=1), hue='cluster', palette='viridis')\n",
    "#plt.show()\n",
    "\n",
    "\n",
    "###  Zur Erzeugung des Beispiel-Screenshots:\n",
    "\n",
    "num_clusters_b = 4\n",
    "\n",
    "# K-Means-Modell erstellen\n",
    "kmeans_b = KMeans(n_clusters=num_clusters_b, random_state=42, n_init=10)\n",
    "kmeans_b.fit(standardized_data)\n",
    "\n",
    "# Den Cluster zuordnen für jeden Datenpunkt\n",
    "csv_data_b = pd.read_csv(csv_file_path)\n",
    "\n",
    "csv_data_b['cluster'] = kmeans_b.labels_\n",
    "\n",
    "sns.set(style = \"darkgrid\")\n",
    "\n",
    "sns.pairplot(pd.concat([pd.DataFrame(standardized_data, columns=selected_features), csv_data_b['cluster']], axis=1), hue='cluster', palette='viridis')\n",
    "plt.show()"
   ]
  },
  {
   "cell_type": "markdown",
   "id": "af7cb0822f89abe0",
   "metadata": {
    "collapsed": false
   },
   "source": [
    "## Screenshot des erwarteten Pairplots:\n",
    "\n",
    "![Pairplot](pairplot_output.png)"
   ]
  },
  {
   "cell_type": "markdown",
   "id": "e68004d6449bae3d",
   "metadata": {
    "collapsed": false
   },
   "source": []
  }
 ],
 "metadata": {
  "kernelspec": {
   "display_name": "Python 3",
   "language": "python",
   "name": "python3"
  },
  "language_info": {
   "codemirror_mode": {
    "name": "ipython",
    "version": 3
   },
   "file_extension": ".py",
   "mimetype": "text/x-python",
   "name": "python",
   "nbconvert_exporter": "python",
   "pygments_lexer": "ipython3",
   "version": "3.11.3"
  }
 },
 "nbformat": 4,
 "nbformat_minor": 5
}
