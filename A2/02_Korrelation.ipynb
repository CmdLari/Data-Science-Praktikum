{
 "cells": [
  {
   "cell_type": "code",
   "execution_count": 23,
   "metadata": {},
   "outputs": [],
   "source": [
    "### Untersuchung der Datensätze aus den Youtube-Trends ###\n",
    "##### Untersuchung der Merkmale \"Likes\" & \"Dislikes\" #####\n",
    "\n",
    "import pandas as pd\n",
    "import matplotlib.pyplot as plt\n",
    "import seaborn as sns"
   ]
  },
  {
   "cell_type": "markdown",
   "metadata": {},
   "source": [
    "# Aufgabe 4: Korrelationsanalyse der YouTube Daten mit Python\n",
    "* Suchen sie sich 2 Features (Spalten) aus den Daten aus"
   ]
  },
  {
   "cell_type": "code",
   "execution_count": 24,
   "metadata": {},
   "outputs": [
    {
     "data": {
      "text/html": [
       "<div>\n",
       "<style scoped>\n",
       "    .dataframe tbody tr th:only-of-type {\n",
       "        vertical-align: middle;\n",
       "    }\n",
       "\n",
       "    .dataframe tbody tr th {\n",
       "        vertical-align: top;\n",
       "    }\n",
       "\n",
       "    .dataframe thead th {\n",
       "        text-align: right;\n",
       "    }\n",
       "</style>\n",
       "<table border=\"1\" class=\"dataframe\">\n",
       "  <thead>\n",
       "    <tr style=\"text-align: right;\">\n",
       "      <th></th>\n",
       "      <th>channel</th>\n",
       "      <th>likes_cleaned</th>\n",
       "      <th>dislikes_cleaned</th>\n",
       "    </tr>\n",
       "  </thead>\n",
       "  <tbody>\n",
       "    <tr>\n",
       "      <th>0</th>\n",
       "      <td>Brawl Stars</td>\n",
       "      <td>940030.0</td>\n",
       "      <td>11778.0</td>\n",
       "    </tr>\n",
       "    <tr>\n",
       "      <th>1</th>\n",
       "      <td>laserluca</td>\n",
       "      <td>53118.0</td>\n",
       "      <td>590.0</td>\n",
       "    </tr>\n",
       "    <tr>\n",
       "      <th>2</th>\n",
       "      <td>Fynn Kliemann</td>\n",
       "      <td>13596.0</td>\n",
       "      <td>81.0</td>\n",
       "    </tr>\n",
       "    <tr>\n",
       "      <th>3</th>\n",
       "      <td>Felix von der Laden</td>\n",
       "      <td>19310.0</td>\n",
       "      <td>590.0</td>\n",
       "    </tr>\n",
       "    <tr>\n",
       "      <th>4</th>\n",
       "      <td>Marius Angeschrien</td>\n",
       "      <td>17961.0</td>\n",
       "      <td>145.0</td>\n",
       "    </tr>\n",
       "    <tr>\n",
       "      <th>5</th>\n",
       "      <td>mathisox</td>\n",
       "      <td>6753.0</td>\n",
       "      <td>65.0</td>\n",
       "    </tr>\n",
       "    <tr>\n",
       "      <th>6</th>\n",
       "      <td>Stuttgarter Zeitung &amp; Stuttgarter Nachrichten</td>\n",
       "      <td>4045.0</td>\n",
       "      <td>1238.0</td>\n",
       "    </tr>\n",
       "    <tr>\n",
       "      <th>7</th>\n",
       "      <td>EliasN97</td>\n",
       "      <td>83466.0</td>\n",
       "      <td>437.0</td>\n",
       "    </tr>\n",
       "    <tr>\n",
       "      <th>8</th>\n",
       "      <td>DAZN Bundesliga</td>\n",
       "      <td>11381.0</td>\n",
       "      <td>206.0</td>\n",
       "    </tr>\n",
       "    <tr>\n",
       "      <th>9</th>\n",
       "      <td>Fynn Kliemann</td>\n",
       "      <td>16831.0</td>\n",
       "      <td>198.0</td>\n",
       "    </tr>\n",
       "  </tbody>\n",
       "</table>\n",
       "</div>"
      ],
      "text/plain": [
       "                                         channel  likes_cleaned  \\\n",
       "0                                    Brawl Stars       940030.0   \n",
       "1                                      laserluca        53118.0   \n",
       "2                                  Fynn Kliemann        13596.0   \n",
       "3                            Felix von der Laden        19310.0   \n",
       "4                             Marius Angeschrien        17961.0   \n",
       "5                                       mathisox         6753.0   \n",
       "6  Stuttgarter Zeitung & Stuttgarter Nachrichten         4045.0   \n",
       "7                                       EliasN97        83466.0   \n",
       "8                                DAZN Bundesliga        11381.0   \n",
       "9                                  Fynn Kliemann        16831.0   \n",
       "\n",
       "   dislikes_cleaned  \n",
       "0           11778.0  \n",
       "1             590.0  \n",
       "2              81.0  \n",
       "3             590.0  \n",
       "4             145.0  \n",
       "5              65.0  \n",
       "6            1238.0  \n",
       "7             437.0  \n",
       "8             206.0  \n",
       "9             198.0  "
      ]
     },
     "execution_count": 24,
     "metadata": {},
     "output_type": "execute_result"
    }
   ],
   "source": [
    "# Daten mittels Pandas einlesen\n",
    "youtube_data = pd.read_parquet('..\\..\\youtube_trend_videos.parquet')\n",
    "\n",
    "youtube_data['likes_cleaned'] = youtube_data['likes'].apply(lambda x: x[-1])\n",
    "youtube_data['dislikes_cleaned'] = youtube_data['dislikes'].apply(lambda x: x[-1])\n",
    "\n",
    "# Daten von NaN-Werten reinigen\n",
    "youtube_data = youtube_data.dropna()\n",
    "\n",
    "# Auswahl relevanter Daten\n",
    "youtube_data_likesvsdislikes = youtube_data[['channel', 'likes_cleaned', 'dislikes_cleaned']]\n",
    "\n",
    "# Indexierung der Daten neu vornehmen, da atm Lücken bestehen\n",
    "youtube_data_likesvsdislikes = youtube_data_likesvsdislikes.reset_index(drop=True)\n",
    "\n",
    "# Anzeige der im Folgenden genutzten Daten (Top 10 Datensätze nach likes) \n",
    "youtube_data_likesvsdislikes.head(10)\n"
   ]
  },
  {
   "cell_type": "markdown",
   "metadata": {},
   "source": [
    "* Führen Sie die Korrelationsanalyse mit dem passenden Algorithmus in Python durch"
   ]
  },
  {
   "cell_type": "code",
   "execution_count": 25,
   "metadata": {},
   "outputs": [
    {
     "name": "stdout",
     "output_type": "stream",
     "text": [
      "Pearson-Korrelationskoeffizient zwischen A und B: 0.799158828098204\n"
     ]
    }
   ],
   "source": [
    "# Droppen des channelnamen\n",
    "youtube_data_forDataFrame = youtube_data_likesvsdislikes.drop(['channel'], axis=1)\n",
    "\n",
    "youtube_data_forDataFrame.head(10)\n",
    "\n",
    "# Pearson-Korrelation berechnen\n",
    "korrelationsMatrix = youtube_data_forDataFrame.corr()\n",
    "\n",
    "# Der Pearson-Korrelationskoeffizient zwischen den Spalten 'Likes' und 'Dislikes' anzeigen\n",
    "pearsonKoeffizient = korrelationsMatrix.loc['likes_cleaned', 'dislikes_cleaned']\n",
    "\n",
    "print(f\"Pearson-Korrelationskoeffizient zwischen A und B: {pearsonKoeffizient}\")"
   ]
  },
  {
   "cell_type": "markdown",
   "metadata": {},
   "source": [
    "* Plotten Sie das Ergebnis mit einer geeigneten Visualisierung"
   ]
  },
  {
   "cell_type": "code",
   "execution_count": 26,
   "metadata": {},
   "outputs": [
    {
     "data": {
      "image/png": "[encoded data removed]",
      "text/plain": [
       "<Figure size 864x576 with 1 Axes>"
      ]
     },
     "metadata": {
      "needs_background": "light"
     },
     "output_type": "display_data"
    }
   ],
   "source": [
    "# Visualisierung\n",
    "\n",
    "plt.figure(figsize=(12, 8))\n",
    "plt.title('Correlation of Likes & Dislikes')\n",
    "plt.xlabel('Likes (in Mio.)')\n",
    "plt.ylabel('Dislikes')\n",
    "\n",
    "# Step 3: Plot the Dots\n",
    "sns.scatterplot(x=youtube_data_likesvsdislikes['likes_cleaned'], y=youtube_data_likesvsdislikes['dislikes_cleaned'], hue=youtube_data_likesvsdislikes['channel'], palette='viridis')\n",
    "\n",
    "# for i, txt in enumerate(youtube_data_likesvsdislikes['channel']):\n",
    "#     plt.annotate(txt, (youtube_data_likesvsdislikes['likes_cleaned'][i], youtube_data_likesvsdislikes['dislikes_cleaned'][i]), textcoords=\"offset points\", xytext=(0, 5), ha='center')\n",
    "\n",
    "plt.xticks(range(0, int(max(youtube_data_likesvsdislikes['likes_cleaned'])+1), 5000000))\n",
    "plt.gca().get_legend().remove()\n",
    "\n",
    "# Show the plot\n",
    "plt.show()"
   ]
  }
 ],
 "metadata": {
  "kernelspec": {
   "display_name": "Python 3",
   "language": "python",
   "name": "python3"
  },
  "language_info": {
   "codemirror_mode": {
    "name": "ipython",
    "version": 3
   },
   "file_extension": ".py",
   "mimetype": "text/x-python",
   "name": "python",
   "nbconvert_exporter": "python",
   "pygments_lexer": "ipython3",
   "version": "3.10.2"
  }
 },
 "nbformat": 4,
 "nbformat_minor": 2
}
