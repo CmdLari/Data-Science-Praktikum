{
 "cells": [
  {
   "cell_type": "markdown",
   "id": "e5ca54437b7e08b5",
   "metadata": {
    "collapsed": false
   },
   "source": [
    "### OPTIONALE Zusatzaufgabe: Erstellung eines Convolutional Neural Networks\n",
    "\n",
    "**Ziel**:\n",
    "\n",
    "Entwickeln Sie ein Convolutional Neural Network (CNN) zur Klassifikation der handgeschriebenen Ziffern des MNIST-Datensatzes. Dieses Netz soll eine Kombination aus Convolutional Layern, Pooling Layern und Dense Layern verwenden.\n",
    "\n",
    "**Aufgabenbeschreibung**:\n",
    "\n",
    "1. **Netzwerkarchitektur**:\n",
    "   - Ihr CNN sollte mindestens einen Convolutional Layer und einen Pooling Layer enthalten.\n",
    "   - Fügen Sie nach den Convolutional und Pooling Layern mindestens einen Dense Layer hinzu, der als Klassifikator dient.\n",
    "   - Experimentieren Sie mit verschiedenen Architekturen, Anzahl von Layern und Layereinstellungen.\n",
    "\n",
    "2. **Convolutional Layer**:\n",
    "   - Verwenden Sie Convolutional Layer (`Conv2D` in Keras) zur Merkmalsextraktion aus den Bildern.\n",
    "   - Experimentieren Sie mit verschiedenen Anzahlen von Filtern und Kernelgrößen.\n",
    "\n",
    "3. **Pooling Layer**:\n",
    "   - Integrieren Sie Pooling Layer (`MaxPooling2D` in Keras), um die räumliche Dimension der Feature Maps zu reduzieren und die Rechenkomplexität zu verringern.\n",
    "   - Experimentieren Sie mit verschiedenen Pooling-Größen.\n",
    "\n",
    "4. **Dense Layer**:\n",
    "   - Nutzen Sie Dense Layer für die Klassifikation. Überlegen Sie, wie viele Neuronen sinnvoll sind und welche Aktivierungsfunktionen Sie verwenden sollten.\n",
    "\n",
    "5. **Training und Evaluation**:\n",
    "   - Trainieren Sie Ihr Netzwerk auf dem MNIST-Datensatz.\n",
    "   - Evaluieren Sie das Modell anhand der Genauigkeit auf dem Testset und vergleichen Sie es mit den Ergebnissen der vorherigen Aufgabe.\n",
    "\n"
   ]
  }
 ],
 "metadata": {
  "kernelspec": {
   "display_name": "Python 3",
   "language": "python",
   "name": "python3"
  },
  "language_info": {
   "codemirror_mode": {
    "name": "ipython",
    "version": 3
   },
   "file_extension": ".py",
   "mimetype": "text/x-python",
   "name": "python",
   "nbconvert_exporter": "python",
   "pygments_lexer": "ipython3",
   "version": "3.11.3"
  }
 },
 "nbformat": 4,
 "nbformat_minor": 5
}
