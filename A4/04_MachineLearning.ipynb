{
 "cells": [
  {
   "cell_type": "markdown",
   "id": "aa119f4612eb884c",
   "metadata": {
    "collapsed": false
   },
   "source": [
    "# 4. Praktikum in Data Science - Machine Learning\n",
    "\n",
    "---\n",
    "\n",
    "### Aufgabe: Vergleich von ML Algorithmen für die Bildklassifizierung\n",
    "\n",
    "<img src=\"digits_output.png\" alt=\"image\" width=\"300\" height=\"auto\">\n",
    "\n",
    "**Ziel**: \n",
    "\n",
    "Ziel dieses Praktikums ist es, verschiedene maschinelle Lernmethoden zur Klassifikation von handgeschriebenen Ziffern (0-9) mit dem MNIST-Datensatz zu erkunden und zu vergleichen. Durch diese Aufgabe sollen die Studierenden ein tieferes Verständnis für die Stärken, Schwächen und Anwendungsgebiete verschiedener Algorithmen im maschinellen Lernen erlangen.\n",
    "\n",
    "**Einführung**:\n",
    "\n",
    "Der MNIST-Datensatz ist eine Sammlung von handgeschriebenen Ziffern, die häufig zum Einstieg in die Bilderkennung und das maschinelle Lernen genutzt wird. Er besteht aus 70.000 Bildern, wobei jedes Bild eine der Ziffern von 0 bis 9 darstellt. Diese Aufgabe bietet eine praktische Gelegenheit, grundlegende Techniken des maschinellen Lernens anzuwenden und zu vergleichen.\n",
    "\n",
    "**Aufgabenübersicht**:\n",
    "\n",
    "1. **Datenvorverarbeitung**:\n",
    "   - Laden Sie den bereitgestellten MNIST-Datensatz.\n",
    "   - Teilen Sie den Datensatz in Trainings- und Testsets auf.\n",
    "   - Führen Sie eine angemessene Vorverarbeitung durch. Für generische ML-Methoden normalisieren Sie die Pixelwerte mit einem geeigneten Skalierer (z.B. StandardScaler oder MinMaxScaler). Für neuronale Netze formatieren Sie die Eingabedaten richtig und skalieren sie auf einen Bereich von 0 bis 1.\n",
    "\n",
    "2. **Klassifikation mit verschiedenen Algorithmen**:\n",
    "   - Implementieren und trainieren Sie folgende Algorithmen:\n",
    "     - Logistische Regression (mit `sklearn`)\n",
    "     - Decision Tree (mit`sklearn`)\n",
    "     - Random Forest (mit `sklearn`)\n",
    "     - Support Vector Machine (SVM) (mit `sklearn`)\n",
    "     - Dichtes Neuronales Netzwerk (mit `tensorflow.keras` und dem `Sequential`-Package):\n",
    "       - Verwenden Sie mindestens 2 Hidden Layers (Dense)\n",
    "       - Nutzen Sie die Loss Function `Crossentropy` (Achtung: Es gibt verschiedene Arten! Informieren Sie sich darüber).\n",
    "       - Verwenden Sie die Aktivierungsfunktionen `relu` und `softmax` (Achten Sie darauf, welche für welche Layer geeignet sind).\n",
    "       - Trainieren Sie das Netz für 5 Epochen.\n",
    "       - nutzen sie die Funktion `summary()`um sich die Netzarchitektur ausgeben zu lassen\n",
    "   - Achten Sie in jedem Fall auf eine sinnvolle Wahl der Hyperparameter. Informieren Sie sich bei Bedarf auf den jeweiligen Dokumentationsseiten der Bibliotheken.\n",
    "\n",
    "3. **Bewertung und Vergleich**:\n",
    "   - Bewerten Sie jedes Modell mit der Metrik `accuracy_score` auf dem Testset.\n",
    "     - Ziel ist es, eine möglichst hohe Genauigkeit zu erzielen (>90%).\n",
    "   - Messen Sie die Trainingszeiten für die verschiedenen Algorithmen mit der Funktion `time()`.\n",
    "   - Vergleichen Sie die Leistung der Modelle in einer Pandas-Tabelle hinsichtlich Genauigkeit und Trainingszeit.\n",
    "     - Beschreiben Sie die Ergebnisse kurz in etwa 5 Sätzen."
   ]
  },
  {
   "cell_type": "code",
   "execution_count": 17,
   "id": "e9c3a7037da5228b",
   "metadata": {
    "collapsed": false
   },
   "outputs": [],
   "source": [
    "import pandas as pd\n",
    "# Für die MNIST Daten\n",
    "from sklearn.datasets import fetch_openml\n",
    "\n",
    "# Numpy & Pandas\n",
    "import numpy as np\n",
    "import pandas as pd\n",
    "\n",
    "# Preprocessing\n",
    "from sklearn.model_selection import train_test_split\n",
    "from sklearn.preprocessing import StandardScaler\n",
    "\n",
    "# ML Methoden\n",
    "from sklearn.linear_model import LogisticRegression\n",
    "from sklearn.svm import LinearSVC\n",
    "from sklearn.tree import DecisionTreeClassifier\n",
    "from sklearn.ensemble import RandomForestClassifier\n",
    "\n",
    "# Metrik\n",
    "from sklearn.metrics import accuracy_score\n",
    "\n",
    "# Tensorflow Neural Network\n",
    "from tensorflow.keras.models import Sequential\n",
    "from tensorflow.keras.layers import Dense\n",
    "\n",
    "import matplotlib.pyplot as plt\n",
    "\n",
    "import seaborn as sns\n",
    "\n",
    "# Zeitmessung\n",
    "import time\n"
   ]
  },
  {
   "cell_type": "code",
   "execution_count": 3,
   "id": "81feccf156a3139f",
   "metadata": {
    "collapsed": false
   },
   "outputs": [],
   "source": [
    "# Laden des MNIST-Datensatzes\n",
    "mnist = fetch_openml('mnist_784', version=1, parser='auto')\n",
    "X, y = mnist[\"data\"], mnist[\"target\"]\n",
    "y = y.astype(np.uint8) # Konvertierung der Target-Variable in Integer Werte\n"
   ]
  },
  {
   "cell_type": "markdown",
   "id": "8696d29a8e5b2635",
   "metadata": {
    "collapsed": false
   },
   "source": [
    "# Hier könnt ihr jetzt selbst weitermachen. Viel Spaß :D"
   ]
  },
  {
   "cell_type": "code",
   "execution_count": 4,
   "id": "ef21fb0fee2709d4",
   "metadata": {
    "collapsed": false
   },
   "outputs": [
    {
     "name": "stdout",
     "output_type": "stream",
     "text": [
      "Logistische Regression - Genauigkeit: 0.9165\n",
      "Benötigte Zeit: 111.37032723426819\n"
     ]
    }
   ],
   "source": [
    "# In Trainingssets aufteilen\n",
    "X_train, X_test, y_train, y_test = train_test_split(X, y, test_size=0.2, random_state=42)\n",
    "\n",
    "# Standartisierung\n",
    "scaler = StandardScaler()\n",
    "X_train_scaled = scaler.fit_transform(X_train)\n",
    "X_test_scaled = scaler.transform(X_test)\n",
    "\n",
    "# Logistische Regression\n",
    "start_time = time.time()\n",
    "log_reg = LogisticRegression(solver='lbfgs', max_iter=1000)\n",
    "log_reg.fit(X_train_scaled, y_train)\n",
    "y_pred_log_reg = log_reg.predict(X_test_scaled)\n",
    "accuracy_log_reg = accuracy_score(y_test, y_pred_log_reg)\n",
    "print(\"Logistische Regression - Genauigkeit:\", accuracy_log_reg)\n",
    "time_log_reg = time.time() - start_time\n",
    "print(\"Benötigte Zeit:\", time.time() - start_time)"
   ]
  },
  {
   "cell_type": "code",
   "execution_count": 5,
   "metadata": {},
   "outputs": [
    {
     "name": "stdout",
     "output_type": "stream",
     "text": [
      "Decision Tree: Genauigkeit: 0.8714285714285714\n",
      "Benötigte Zeit: 20.64046287536621\n"
     ]
    }
   ],
   "source": [
    "# Decision Tree\n",
    "start_time = time.time()\n",
    "decision_tree = DecisionTreeClassifier()\n",
    "decision_tree.fit(X_train_scaled, y_train)\n",
    "y_pred_decision_tree = decision_tree.predict(X_test_scaled)\n",
    "accuracy_decision_tree = accuracy_score(y_test, y_pred_decision_tree)\n",
    "print(\"Decision Tree: Genauigkeit:\", accuracy_decision_tree)\n",
    "time_decision_tree = time.time() - start_time\n",
    "print(\"Benötigte Zeit:\", time.time() - start_time)"
   ]
  },
  {
   "cell_type": "code",
   "execution_count": 6,
   "metadata": {},
   "outputs": [
    {
     "name": "stdout",
     "output_type": "stream",
     "text": [
      "Random Forest: Genauigkeit: 0.9674285714285714\n",
      "Benötigte Zeit: 57.11867690086365\n"
     ]
    }
   ],
   "source": [
    "# Random Forest\n",
    "start_time = time.time()\n",
    "random_forest = RandomForestClassifier(n_estimators=100, random_state=42)\n",
    "random_forest.fit(X_train_scaled, y_train)\n",
    "y_pred_random_forest = random_forest.predict(X_test_scaled)\n",
    "accuracy_random_forest = accuracy_score(y_test, y_pred_random_forest)\n",
    "print(\"Random Forest: Genauigkeit:\", accuracy_random_forest)\n",
    "time_random_forest = time.time() - start_time\n",
    "print(\"Benötigte Zeit:\", time.time() - start_time)\n"
   ]
  },
  {
   "cell_type": "code",
   "execution_count": 7,
   "metadata": {},
   "outputs": [
    {
     "name": "stderr",
     "output_type": "stream",
     "text": [
      "c:\\Users\\studi\\AppData\\Local\\Programs\\Python\\Python311\\Lib\\site-packages\\sklearn\\svm\\_classes.py:32: FutureWarning: The default value of `dual` will change from `True` to `'auto'` in 1.5. Set the value of `dual` explicitly to suppress the warning.\n",
      "  warnings.warn(\n"
     ]
    },
    {
     "name": "stdout",
     "output_type": "stream",
     "text": [
      "Lineare SVM: Genauigkeit: 0.9074285714285715\n",
      "Benötigte Zeit: 406.4043970108032\n"
     ]
    },
    {
     "name": "stderr",
     "output_type": "stream",
     "text": [
      "c:\\Users\\studi\\AppData\\Local\\Programs\\Python\\Python311\\Lib\\site-packages\\sklearn\\svm\\_base.py:1250: ConvergenceWarning: Liblinear failed to converge, increase the number of iterations.\n",
      "  warnings.warn(\n"
     ]
    }
   ],
   "source": [
    "# Support Vector Machine (Linear)\n",
    "start_time = time.time()\n",
    "linear_svm = LinearSVC(max_iter=1000, random_state=42)\n",
    "linear_svm.fit(X_train_scaled, y_train)\n",
    "y_pred_linear_svm = linear_svm.predict(X_test_scaled)\n",
    "accuracy_linear_svm = accuracy_score(y_test, y_pred_linear_svm)\n",
    "print(\"Lineare SVM: Genauigkeit:\", accuracy_linear_svm)\n",
    "time_linear_svm = time.time() - start_time\n",
    "print(\"Benötigte Zeit:\", time.time() - start_time)"
   ]
  },
  {
   "cell_type": "code",
   "execution_count": 12,
   "metadata": {},
   "outputs": [
    {
     "name": "stdout",
     "output_type": "stream",
     "text": [
      "Model: \"sequential_4\"\n",
      "_________________________________________________________________\n",
      " Layer (type)                Output Shape              Param #   \n",
      "=================================================================\n",
      " dense_24 (Dense)            (None, 512)               401920    \n",
      "                                                                 \n",
      " dense_25 (Dense)            (None, 256)               131328    \n",
      "                                                                 \n",
      " dense_26 (Dense)            (None, 128)               32896     \n",
      "                                                                 \n",
      " dense_27 (Dense)            (None, 64)                8256      \n",
      "                                                                 \n",
      " dense_28 (Dense)            (None, 32)                2080      \n",
      "                                                                 \n",
      " dense_29 (Dense)            (None, 10)                330       \n",
      "                                                                 \n",
      "=================================================================\n",
      "Total params: 576810 (2.20 MB)\n",
      "Trainable params: 576810 (2.20 MB)\n",
      "Non-trainable params: 0 (0.00 Byte)\n",
      "_________________________________________________________________\n",
      "Epoch 1/9\n",
      "1400/1400 [==============================] - 10s 6ms/step - loss: 0.2653 - accuracy: 0.9240 - val_loss: 0.1779 - val_accuracy: 0.9464\n",
      "Epoch 2/9\n",
      "1400/1400 [==============================] - 8s 6ms/step - loss: 0.1300 - accuracy: 0.9620 - val_loss: 0.1553 - val_accuracy: 0.9538\n",
      "Epoch 3/9\n",
      "1400/1400 [==============================] - 8s 6ms/step - loss: 0.0952 - accuracy: 0.9719 - val_loss: 0.1339 - val_accuracy: 0.9638\n",
      "Epoch 4/9\n",
      "1400/1400 [==============================] - 9s 6ms/step - loss: 0.0813 - accuracy: 0.9762 - val_loss: 0.1515 - val_accuracy: 0.9640\n",
      "Epoch 5/9\n",
      "1400/1400 [==============================] - 9s 6ms/step - loss: 0.0649 - accuracy: 0.9815 - val_loss: 0.1278 - val_accuracy: 0.9668\n",
      "Epoch 6/9\n",
      "1400/1400 [==============================] - 9s 6ms/step - loss: 0.0588 - accuracy: 0.9839 - val_loss: 0.1625 - val_accuracy: 0.9646\n",
      "Epoch 7/9\n",
      "1400/1400 [==============================] - 9s 6ms/step - loss: 0.0449 - accuracy: 0.9877 - val_loss: 0.1345 - val_accuracy: 0.9707\n",
      "Epoch 8/9\n",
      "1400/1400 [==============================] - 8s 6ms/step - loss: 0.0476 - accuracy: 0.9870 - val_loss: 0.1593 - val_accuracy: 0.9665\n",
      "Epoch 9/9\n",
      "1400/1400 [==============================] - 8s 6ms/step - loss: 0.0394 - accuracy: 0.9883 - val_loss: 0.1404 - val_accuracy: 0.9712\n",
      "438/438 - 1s - loss: 0.1365 - accuracy: 0.9721 - 992ms/epoch - 2ms/step\n"
     ]
    }
   ],
   "source": [
    "# Sequentiielles model\n",
    "start_time = time.time()\n",
    "model = Sequential()\n",
    "\n",
    "model.add(Dense(units=512, activation='relu', input_shape=(X_train_scaled.shape[1],)))\n",
    "model.add(Dense(units=256, activation='relu'))\n",
    "model.add(Dense(units=128, activation='relu'))\n",
    "model.add(Dense(units=64, activation='relu'))\n",
    "model.add(Dense(units=32, activation='relu'))\n",
    "\n",
    "# Output Layer\n",
    "model.add(Dense(units=10, activation='softmax'))\n",
    "\n",
    "# Model-Kompilierung 'sparse_categorical_crossentropy' als loss function\n",
    "model.compile(optimizer='adam', loss='sparse_categorical_crossentropy', metrics=['accuracy'])\n",
    "\n",
    "\n",
    "model.summary()\n",
    "\n",
    "model.fit(X_train_scaled, y_train, epochs=9, validation_split=0.2)\n",
    "test_loss, accuracy_sm = model.evaluate(X_test_scaled.reshape(-1, X_test_scaled.shape[1]), y_test, verbose=2)\n",
    "\n",
    "time_sm = time.time() - start_time\n"
   ]
  },
  {
   "cell_type": "code",
   "execution_count": 20,
   "metadata": {},
   "outputs": [
    {
     "data": {
      "image/png": "[encoded data removed]",
      "text/plain": [
       "<Figure size 1000x500 with 2 Axes>"
      ]
     },
     "metadata": {},
     "output_type": "display_data"
    }
   ],
   "source": [
    "# Modelbenennung, genauigkeit und zeit\n",
    "models = ['Logistic Regression', 'Decision Tree', 'Random Forest', 'Linear SVM', 'Neural Network']\n",
    "accuracies = [accuracy_log_reg, accuracy_decision_tree, accuracy_random_forest, accuracy_linear_svm, accuracy_sm]\n",
    "times = [time_log_reg, time_decision_tree, time_random_forest, time_linear_svm, time_sm]\n",
    "\n",
    "sns.set(style=\"darkgrid\")\n",
    "\n",
    "plt.figure(figsize=(10, 5))\n",
    "scatter = plt.scatter(accuracies, times, c=accuracies, cmap='viridis')\n",
    "\n",
    "for i, model in enumerate(models):\n",
    "    plt.annotate(model, (accuracies[i], times[i]), textcoords=\"offset points\", xytext=(0,5), ha='center')\n",
    "\n",
    "plt.xlabel('Genauigkeit')\n",
    "plt.ylabel('Dauer in Sekunden')\n",
    "plt.title('Genauigkeit vs. Dauer')\n",
    "plt.colorbar(scatter, label='Genauigkeit')\n",
    "plt.show()\n"
   ]
  }
 ],
 "metadata": {
  "kernelspec": {
   "display_name": "Python 3",
   "language": "python",
   "name": "python3"
  },
  "language_info": {
   "codemirror_mode": {
    "name": "ipython",
    "version": 3
   },
   "file_extension": ".py",
   "mimetype": "text/x-python",
   "name": "python",
   "nbconvert_exporter": "python",
   "pygments_lexer": "ipython3",
   "version": "3.11.3"
  }
 },
 "nbformat": 4,
 "nbformat_minor": 5
}
