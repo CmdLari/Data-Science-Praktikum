{
 "cells": [
  {
   "cell_type": "markdown",
   "source": [
    "# 4. Praktikum in Data Science - Machine Learning\n",
    "\n",
    "---\n",
    "\n",
    "### Aufgabe: Vergleich von ML Algorithmen für die Bildklassifizierung\n",
    "\n",
    "<img src=\"digits_output.png\" alt=\"image\" width=\"300\" height=\"auto\">\n",
    "\n",
    "**Ziel**: \n",
    "\n",
    "Ziel dieses Praktikums ist es, verschiedene maschinelle Lernmethoden zur Klassifikation von handgeschriebenen Ziffern (0-9) mit dem MNIST-Datensatz zu erkunden und zu vergleichen. Durch diese Aufgabe sollen die Studierenden ein tieferes Verständnis für die Stärken, Schwächen und Anwendungsgebiete verschiedener Algorithmen im maschinellen Lernen erlangen.\n",
    "\n",
    "**Einführung**:\n",
    "\n",
    "Der MNIST-Datensatz ist eine Sammlung von handgeschriebenen Ziffern, die häufig zum Einstieg in die Bilderkennung und das maschinelle Lernen genutzt wird. Er besteht aus 70.000 Bildern, wobei jedes Bild eine der Ziffern von 0 bis 9 darstellt. Diese Aufgabe bietet eine praktische Gelegenheit, grundlegende Techniken des maschinellen Lernens anzuwenden und zu vergleichen.\n",
    "\n",
    "**Aufgabenübersicht**:\n",
    "\n",
    "1. **Datenvorverarbeitung**:\n",
    "   - Laden Sie den bereitgestellten MNIST-Datensatz.\n",
    "   - Teilen Sie den Datensatz in Trainings- und Testsets auf.\n",
    "   - Führen Sie eine angemessene Vorverarbeitung durch. Für generische ML-Methoden normalisieren Sie die Pixelwerte mit einem geeigneten Skalierer (z.B. StandardScaler oder MinMaxScaler). Für neuronale Netze formatieren Sie die Eingabedaten richtig und skalieren sie auf einen Bereich von 0 bis 1.\n",
    "\n",
    "2. **Klassifikation mit verschiedenen Algorithmen**:\n",
    "   - Implementieren und trainieren Sie folgende Algorithmen:\n",
    "     - Logistische Regression (mit `sklearn`)\n",
    "     - Decision Tree (mit`sklearn`)\n",
    "     - Random Forest (mit `sklearn`)\n",
    "     - Support Vector Machine (SVM) (mit `sklearn`)\n",
    "     - Dichtes Neuronales Netzwerk (mit `tensorflow.keras` und dem `Sequential`-Package):\n",
    "       - Verwenden Sie mindestens 2 Hidden Layers (Dense)\n",
    "       - Nutzen Sie die Loss Function `Crossentropy` (Achtung: Es gibt verschiedene Arten! Informieren Sie sich darüber).\n",
    "       - Verwenden Sie die Aktivierungsfunktionen `relu` und `softmax` (Achten Sie darauf, welche für welche Layer geeignet sind).\n",
    "       - Trainieren Sie das Netz für 5 Epochen.\n",
    "       - nutzen sie die Funktion `summary()`um sich die Netzarchitektur ausgeben zu lassen\n",
    "   - Achten Sie in jedem Fall auf eine sinnvolle Wahl der Hyperparameter. Informieren Sie sich bei Bedarf auf den jeweiligen Dokumentationsseiten der Bibliotheken.\n",
    "\n",
    "3. **Bewertung und Vergleich**:\n",
    "   - Bewerten Sie jedes Modell mit der Metrik `accuracy_score` auf dem Testset.\n",
    "     - Ziel ist es, eine möglichst hohe Genauigkeit zu erzielen (>90%).\n",
    "   - Messen Sie die Trainingszeiten für die verschiedenen Algorithmen mit der Funktion `time()`.\n",
    "   - Vergleichen Sie die Leistung der Modelle in einer Pandas-Tabelle hinsichtlich Genauigkeit und Trainingszeit.\n",
    "     - Beschreiben Sie die Ergebnisse kurz in etwa 5 Sätzen."
   ],
   "metadata": {
    "collapsed": false
   },
   "id": "aa119f4612eb884c"
  },
  {
   "cell_type": "code",
   "execution_count": null,
   "outputs": [],
   "source": [
    "import pandas as pd\n",
    "# Für die MNIST Daten\n",
    "from sklearn.datasets import fetch_openml\n",
    "\n",
    "# Numpy & Pandas\n",
    "import numpy as np\n",
    "import pandas as pd\n",
    "\n",
    "# Preprocessing\n",
    "from sklearn.model_selection import train_test_split\n",
    "from sklearn.preprocessing import StandardScaler\n",
    "\n",
    "# ML Methoden\n",
    "from sklearn.linear_model import LogisticRegression\n",
    "from sklearn.svm import LinearSVC\n",
    "from sklearn.tree import DecisionTreeClassifier\n",
    "from sklearn.ensemble import RandomForestClassifier\n",
    "\n",
    "# Metrik\n",
    "from sklearn.metrics import accuracy_score\n",
    "\n",
    "# Tensorflow Neural Network\n",
    "from tensorflow.keras.models import Sequential\n",
    "from tensorflow.keras.layers import Dense, Flatten\n",
    "\n",
    "# Zeitmessung\n",
    "import time\n"
   ],
   "metadata": {
    "collapsed": false
   },
   "id": "e9c3a7037da5228b"
  },
  {
   "cell_type": "code",
   "execution_count": null,
   "outputs": [],
   "source": [
    "# Laden des MNIST-Datensatzes\n",
    "mnist = fetch_openml('mnist_784', version=1)\n",
    "X, y = mnist[\"data\"], mnist[\"target\"]\n",
    "y = y.astype(np.uint8) # Konvertierung der Target-Variable in Integer Werte\n"
   ],
   "metadata": {
    "collapsed": false
   },
   "id": "81feccf156a3139f"
  },
  {
   "cell_type": "markdown",
   "source": [
    "# Hier könnt ihr jetzt selbst weitermachen. Viel Spaß :D"
   ],
   "metadata": {
    "collapsed": false
   },
   "id": "8696d29a8e5b2635"
  },
  {
   "cell_type": "code",
   "execution_count": null,
   "outputs": [],
   "source": [],
   "metadata": {
    "collapsed": false
   },
   "id": "ef21fb0fee2709d4"
  }
 ],
 "metadata": {
  "kernelspec": {
   "display_name": "Python 3",
   "language": "python",
   "name": "python3"
  },
  "language_info": {
   "codemirror_mode": {
    "name": "ipython",
    "version": 2
   },
   "file_extension": ".py",
   "mimetype": "text/x-python",
   "name": "python",
   "nbconvert_exporter": "python",
   "pygments_lexer": "ipython2",
   "version": "2.7.6"
  }
 },
 "nbformat": 4,
 "nbformat_minor": 5
}
